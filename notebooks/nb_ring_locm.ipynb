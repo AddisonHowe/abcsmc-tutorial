{
 "cells": [
  {
   "attachments": {},
   "cell_type": "markdown",
   "metadata": {},
   "source": [
    "# Ring Model with LOCM Perturbation Kernel\n"
   ]
  },
  {
   "cell_type": "code",
   "execution_count": null,
   "metadata": {},
   "outputs": [],
   "source": [
    "import os\n",
    "import numpy as np\n",
    "import scipy.stats as st\n",
    "import matplotlib.pyplot as plt\n",
    "\n",
    "from abcsmc.abcsmc import abcsmc\n",
    "from abcsmc.plotting import plot_results\n",
    "from abcsmc.models import RingModel\n",
    "from abcsmc.priors import UniformPrior\n"
   ]
  },
  {
   "cell_type": "code",
   "execution_count": null,
   "metadata": {},
   "outputs": [],
   "source": [
    "imgdir = \"../out/images/nb_ring_locm\"\n",
    "os.makedirs(imgdir, exist_ok=True)"
   ]
  },
  {
   "attachments": {},
   "cell_type": "markdown",
   "metadata": {},
   "source": [
    "### Generate observed data $X_0$\n"
   ]
  },
  {
   "cell_type": "code",
   "execution_count": null,
   "metadata": {},
   "outputs": [],
   "source": [
    "# True model parameters\n",
    "theta1 = 3\n",
    "theta2 = 4\n",
    "var_const = 1\n",
    "\n",
    "# True model and generated \"observed\" data\n",
    "model = RingModel(theta1, theta2, var_const)\n",
    "data = model.generate_data(1000)\n",
    "\n",
    "# Parameter indices and names used for plotting\n",
    "pidx1 = 0\n",
    "pidx2 = 1\n",
    "pname1 = \"$\\\\theta_1$\"\n",
    "pname2 = \"$\\\\theta_2$\"\n",
    "\n",
    "plt.hist(data, density=True)\n",
    "plt.title(\"Observed Data\")\n",
    "plt.xlabel('$x$');\n",
    "plt.ylabel(\"density\");"
   ]
  },
  {
   "attachments": {},
   "cell_type": "markdown",
   "metadata": {},
   "source": [
    "### Define priors\n"
   ]
  },
  {
   "cell_type": "code",
   "execution_count": null,
   "metadata": {},
   "outputs": [],
   "source": [
    "# Priors\n",
    "prior_theta1 = UniformPrior(-20, 20)\n",
    "prior_theta2 = UniformPrior(-20, 20)\n",
    "\n",
    "prior_list = [prior_theta1, prior_theta2]"
   ]
  },
  {
   "attachments": {},
   "cell_type": "markdown",
   "metadata": {},
   "source": [
    "### Compute summary statistics of the observed data and define a distance function\n"
   ]
  },
  {
   "cell_type": "code",
   "execution_count": null,
   "metadata": {},
   "outputs": [],
   "source": [
    "# Summary statistics of the observed data\n",
    "data_mu = np.mean(data)\n",
    "data_var = np.var(data)\n",
    "\n",
    "# Distance function\n",
    "def f_dist(x):\n",
    "    mu_err = np.abs(np.mean(x) - data_mu) / data_mu\n",
    "    var_err = np.abs(np.var(x) - data_var) / data_var\n",
    "    return mu_err + var_err"
   ]
  },
  {
   "attachments": {},
   "cell_type": "markdown",
   "metadata": {},
   "source": [
    "### Define a simulation function"
   ]
  },
  {
   "cell_type": "code",
   "execution_count": null,
   "metadata": {},
   "outputs": [],
   "source": [
    "# Simulation function\n",
    "def f_sim(particle, n=100):\n",
    "    return RingModel(particle[0], particle[1], var_const).generate_data(n)"
   ]
  },
  {
   "attachments": {},
   "cell_type": "markdown",
   "metadata": {},
   "source": [
    "## Run ABC-SMC"
   ]
  },
  {
   "cell_type": "code",
   "execution_count": null,
   "metadata": {},
   "outputs": [],
   "source": [
    "KERNEL_METHOD = 'locm'\n",
    "NPARTICLES = 1000\n",
    "NITERS = 5\n",
    "\n",
    "EPS0 = 5\n",
    "EPS_PERCENTILE = 0.15\n",
    "\n",
    "particles, weights, results_dict = abcsmc(\n",
    "    nparticles=NPARTICLES, \n",
    "    nparams=2, \n",
    "    prior_list=prior_list, \n",
    "    niters=NITERS,\n",
    "    sim_func=f_sim,\n",
    "    dist_func=f_dist, \n",
    "    eps0=EPS0, \n",
    "    eps_percentile=EPS_PERCENTILE, \n",
    "    min_eps=0, \n",
    "    kernel_method=KERNEL_METHOD\n",
    ")\n",
    "\n",
    "particle_history = results_dict['particle_history']\n",
    "weight_history = results_dict['weight_history']\n",
    "score_history = results_dict['score_history']\n",
    "acceptance_rates = results_dict['acceptance_rates']\n",
    "epsilon_history = results_dict['epsilon_history']\n"
   ]
  },
  {
   "attachments": {},
   "cell_type": "markdown",
   "metadata": {},
   "source": [
    "## Plot results"
   ]
  },
  {
   "cell_type": "code",
   "execution_count": null,
   "metadata": {},
   "outputs": [],
   "source": [
    "plot_results(\n",
    "    particle_history, weight_history, score_history, acceptance_rates,\n",
    "    epsilon_history, prior_list, \n",
    "    pname1=pname1, pname2=pname2,\n",
    "    save=True, imgdir=imgdir\n",
    ")"
   ]
  }
 ],
 "metadata": {
  "kernelspec": {
   "display_name": "base",
   "language": "python",
   "name": "python3"
  },
  "language_info": {
   "codemirror_mode": {
    "name": "ipython",
    "version": 3
   },
   "file_extension": ".py",
   "mimetype": "text/x-python",
   "name": "python",
   "nbconvert_exporter": "python",
   "pygments_lexer": "ipython3",
   "version": "3.11.4"
  },
  "orig_nbformat": 4
 },
 "nbformat": 4,
 "nbformat_minor": 2
}
