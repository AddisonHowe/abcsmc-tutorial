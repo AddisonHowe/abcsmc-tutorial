{
 "cells": [
  {
   "attachments": {},
   "cell_type": "markdown",
   "metadata": {},
   "source": [
    "# Ring Model (Unspecified)\n"
   ]
  },
  {
   "cell_type": "code",
   "execution_count": null,
   "metadata": {},
   "outputs": [],
   "source": [
    "import os\n",
    "import argparse\n",
    "import numpy as np\n",
    "\n",
    "from abcsmc.abcsmc import abcsmc\n",
    "from abcsmc.models import RingModel\n",
    "from abcsmc.priors import UniformPrior\n",
    "import abcsmc.pl as pl\n"
   ]
  },
  {
   "cell_type": "code",
   "execution_count": null,
   "metadata": {},
   "outputs": [],
   "source": [
    "SCRIPT = not pl.is_notebook()\n",
    "if SCRIPT:\n",
    "    parser = argparse.ArgumentParser()\n",
    "    parser.add_argument('-o', \"--outdir\", type=str, default=\"../../out/images\")\n",
    "    parser.add_argument(\"--imgdir\", type=str, default=\"\")\n",
    "    parser.add_argument('-k', \"--kernel\", type=str, required=True, \n",
    "                        choices=['locm', 'mvn', 'uniform', 'gaussian'])\n",
    "    parser.add_argument('-n', \"--nparticles\", type=int, default=800)\n",
    "    parser.add_argument('-i', \"--niters\", type=int,default=5)\n",
    "    parser.add_argument('-e0', \"--eps0\", type=float,default=5)\n",
    "    parser.add_argument('-ep', \"--eps_percentile\", type=float, default=0.15)\n",
    "    parser.add_argument('-d', \"--data\", type=float, default=0, nargs='+')\n",
    "    parser.add_argument('-v', \"--var_const\", type=float, default=0.5)\n",
    "    args = parser.parse_args()"
   ]
  },
  {
   "cell_type": "code",
   "execution_count": null,
   "metadata": {},
   "outputs": [],
   "source": [
    "# ABC-SMC parameters\n",
    "KERNEL_METHOD = 'locm'\n",
    "NPARTICLES = 1000\n",
    "NITERS = 5\n",
    "EPS0 = 5\n",
    "EPS_PERCENTILE = 0.15\n",
    "VAR_CONST = 0.5\n",
    "\n",
    "# Image output\n",
    "imgdir = f\"../../out/images/nb_ring_unspecified_{KERNEL_METHOD}\""
   ]
  },
  {
   "cell_type": "code",
   "execution_count": null,
   "metadata": {},
   "outputs": [],
   "source": [
    "# Reset parameters with command line arguments if running as a script\n",
    "if SCRIPT:\n",
    "    KERNEL_METHOD = args.kernel\n",
    "    NPARTICLES = args.nparticles\n",
    "    NITERS = args.niters\n",
    "    EPS0 = args.eps0\n",
    "    EPS_PERCENTILE = args.eps_percentile\n",
    "    VAR_CONST = args.var_const\n",
    "    if args.imgdir:\n",
    "        imgdir = args.imgdir\n",
    "    else:\n",
    "        imgdir = f\"{args.outdir}/nb_ring_unspecified_{KERNEL_METHOD}\"\n",
    "\n",
    "# Make image output directory \n",
    "os.makedirs(imgdir, exist_ok=True)"
   ]
  },
  {
   "attachments": {},
   "cell_type": "markdown",
   "metadata": {},
   "source": [
    "### Generate observed data $X_0$\n"
   ]
  },
  {
   "cell_type": "code",
   "execution_count": null,
   "metadata": {},
   "outputs": [],
   "source": [
    "# Observed data\n",
    "if SCRIPT:\n",
    "    data = np.array(args.data, dtype=float)\n",
    "else:\n",
    "    data = np.array([0])\n",
    "\n",
    "ndraws = len(data)\n",
    "var_const = VAR_CONST\n",
    "\n",
    "# Parameter indices and names used for plotting\n",
    "pidx1 = 0\n",
    "pidx2 = 1\n",
    "pname1 = \"$\\\\theta_1$\"\n",
    "pname2 = \"$\\\\theta_2$\"\n",
    "\n",
    "# Priors\n",
    "prior_theta1 = UniformPrior(-20, 20)\n",
    "prior_theta2 = UniformPrior(-20, 20)\n",
    "prior_list = [prior_theta1, prior_theta2]\n",
    "plot_range = [[-20, 20], [-20, 20]]\n",
    "\n",
    "# Model object\n",
    "model = RingModel(0, 0, var=var_const, ndraws=ndraws)\n",
    "\n",
    "# Simulation function\n",
    "def f_sim(particle):\n",
    "    m = RingModel(particle[0], particle[1], var=var_const, ndraws=ndraws)\n",
    "    return m.generate_data(ndraws)\n",
    "\n",
    "# Distance function\n",
    "def f_dist(x):\n",
    "    d = np.linalg.norm(x - data)\n",
    "    assert np.ndim(d) == 0, \"Bad distance function\"\n",
    "    return d\n",
    "\n",
    "# Log data\n",
    "np.savetxt(f\"{imgdir}/data.txt\", data)\n",
    "print(\"Data D:\\n\", data)"
   ]
  },
  {
   "attachments": {},
   "cell_type": "markdown",
   "metadata": {},
   "source": [
    "### Plot Analytic Posterior"
   ]
  },
  {
   "cell_type": "code",
   "execution_count": null,
   "metadata": {},
   "outputs": [],
   "source": [
    "logposterior = True\n",
    "pl.plot_posterior(\n",
    "    model, data, prior_list,\n",
    "    gridn=400,\n",
    "    xlims=plot_range[0], ylims=plot_range[1],\n",
    "    pname1=pname1, pname2=pname2,\n",
    "    logposterior=logposterior,\n",
    "    saveas=f\"{imgdir}/analytic_posterior_plot.png\",\n",
    "    markersize=3,\n",
    "    show=not SCRIPT,\n",
    ")\n",
    "\n",
    "print(\"Observed data D\\n\", data)"
   ]
  },
  {
   "attachments": {},
   "cell_type": "markdown",
   "metadata": {},
   "source": [
    "## Run ABC-SMC"
   ]
  },
  {
   "cell_type": "code",
   "execution_count": null,
   "metadata": {},
   "outputs": [],
   "source": [
    "particles, weights, results_dict = abcsmc(\n",
    "    nparticles=NPARTICLES, \n",
    "    nparams=2, \n",
    "    prior_list=prior_list, \n",
    "    niters=NITERS,\n",
    "    sim_func=f_sim,\n",
    "    dist_func=f_dist, \n",
    "    eps0=EPS0, \n",
    "    eps_percentile=EPS_PERCENTILE, \n",
    "    min_eps=0, \n",
    "    kernel_method=KERNEL_METHOD,\n",
    "    track_all_perturbations=True,\n",
    "    disable_pbars=SCRIPT,\n",
    ")\n"
   ]
  },
  {
   "cell_type": "code",
   "execution_count": null,
   "metadata": {},
   "outputs": [],
   "source": [
    "particle_history = results_dict['particle_history']\n",
    "weight_history = results_dict['weight_history']\n",
    "score_history = results_dict['score_history']\n",
    "acceptance_rates = results_dict['acceptance_rates']\n",
    "epsilon_history = results_dict['epsilon_history']\n",
    "sampling_idx_history = results_dict['sampling_index_history']\n",
    "particle_idx_history = results_dict['particle_index_history']\n",
    "all_particle_history = results_dict['all_particle_history']\n",
    "all_sampling_idx_history = results_dict['all_sampling_index_history']\n",
    "all_particle_acceptance_history = results_dict['all_particle_acceptance_history']"
   ]
  },
  {
   "attachments": {},
   "cell_type": "markdown",
   "metadata": {},
   "source": [
    "## Plot results"
   ]
  },
  {
   "cell_type": "code",
   "execution_count": null,
   "metadata": {},
   "outputs": [],
   "source": [
    "pl.plot_results(\n",
    "    particle_history, weight_history, score_history, acceptance_rates,\n",
    "    epsilon_history, prior_list, \n",
    "    pname1=pname1, pname2=pname2,\n",
    "    show=not SCRIPT,\n",
    "    save=True, imgdir=imgdir\n",
    ")"
   ]
  },
  {
   "attachments": {},
   "cell_type": "markdown",
   "metadata": {},
   "source": [
    "## Perturbations"
   ]
  },
  {
   "cell_type": "code",
   "execution_count": null,
   "metadata": {},
   "outputs": [],
   "source": [
    "N_PERTRUB_SAMP = 20\n",
    "for iteridx in range(len(particle_history) - 1):\n",
    "    pl.plot_perturbation_sample(\n",
    "        iteridx, particle_history, sampling_idx_history, particle_idx_history, \n",
    "        nsamp=N_PERTRUB_SAMP, \n",
    "        pname1=pname1, pname2=pname2,\n",
    "        imgdir=imgdir, \n",
    "        show=not SCRIPT,\n",
    "        saveas=f\"accepted_perturbations_{iteridx}_{iteridx+1}.png\"\n",
    "    )"
   ]
  },
  {
   "cell_type": "code",
   "execution_count": null,
   "metadata": {},
   "outputs": [],
   "source": [
    "N_PERTRUB_SAMP = 20\n",
    "\n",
    "for iteridx in range(len(particle_history) - 1):\n",
    "    pl.plot_all_perturbation_sample(\n",
    "        iteridx, particle_history, sampling_idx_history, particle_idx_history, \n",
    "        all_particle_history, all_sampling_idx_history, \n",
    "        acceptance_history=all_particle_acceptance_history,\n",
    "        nsamp=N_PERTRUB_SAMP, \n",
    "        pname1=pname1, pname2=pname2,\n",
    "        imgdir=imgdir, \n",
    "        show=not SCRIPT,\n",
    "        saveas=f\"perturbations_{iteridx}_{iteridx+1}.png\"\n",
    "    )"
   ]
  },
  {
   "attachments": {},
   "cell_type": "markdown",
   "metadata": {},
   "source": [
    "### Compare analytic and empirical posteriors"
   ]
  },
  {
   "cell_type": "code",
   "execution_count": null,
   "metadata": {},
   "outputs": [],
   "source": [
    "emp_dist = pl.plot_empirical_posterior(\n",
    "    particles, weights,\n",
    "    nsamps=10000,\n",
    "    pname1=pname1, pname2=pname2,\n",
    "    show=not SCRIPT,\n",
    "    saveas=f\"{imgdir}/empirical_posterior.png\"\n",
    ")\n",
    "\n",
    "pl.plot_posterior(\n",
    "    model, data, prior_list,\n",
    "    gridn=400,\n",
    "    xlims=plot_range[0], ylims=plot_range[1],\n",
    "    # xlims=[0, 16], ylims=[-2, 10],\n",
    "    pname1=pname1, pname2=pname2,\n",
    "    logposterior=True,\n",
    "    empirical_dist=emp_dist,\n",
    "    # empirical_dist=emp_dist[0:100],\n",
    "    show=not SCRIPT,\n",
    "    saveas=f\"{imgdir}/posterior_comparison.png\",\n",
    "    legend_loc='upper left',\n",
    "    plot_max_posterior=False\n",
    ")"
   ]
  },
  {
   "cell_type": "code",
   "execution_count": null,
   "metadata": {},
   "outputs": [],
   "source": []
  }
 ],
 "metadata": {
  "kernelspec": {
   "display_name": "base",
   "language": "python",
   "name": "python3"
  },
  "language_info": {
   "codemirror_mode": {
    "name": "ipython",
    "version": 3
   },
   "file_extension": ".py",
   "mimetype": "text/x-python",
   "name": "python",
   "nbconvert_exporter": "python",
   "pygments_lexer": "ipython3",
   "version": "3.11.4"
  }
 },
 "nbformat": 4,
 "nbformat_minor": 2
}
