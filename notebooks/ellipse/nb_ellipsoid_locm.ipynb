{
 "cells": [
  {
   "attachments": {},
   "cell_type": "markdown",
   "metadata": {},
   "source": [
    "# Ellipsoid Model with LOCM Perturbation Kernel\n"
   ]
  },
  {
   "cell_type": "code",
   "execution_count": null,
   "metadata": {},
   "outputs": [],
   "source": [
    "import os\n",
    "import numpy as np\n",
    "import matplotlib.pyplot as plt\n",
    "\n",
    "from abcsmc.abcsmc import abcsmc\n",
    "from abcsmc.models import EllipsoidModel\n",
    "from abcsmc.priors import UniformPrior\n",
    "import abcsmc.pl as pl\n"
   ]
  },
  {
   "cell_type": "code",
   "execution_count": null,
   "metadata": {},
   "outputs": [],
   "source": [
    "# ABC-SMC parameters\n",
    "KERNEL_METHOD = 'locm'\n",
    "NPARTICLES = 1000\n",
    "NITERS = 5\n",
    "EPS0 = 5\n",
    "EPS_PERCENTILE = 0.15\n",
    "\n",
    "# Image output\n",
    "imgdir = \"../../out/images/nb_ellipse_locm\"\n",
    "os.makedirs(imgdir, exist_ok=True)"
   ]
  },
  {
   "attachments": {},
   "cell_type": "markdown",
   "metadata": {},
   "source": [
    "### Generate observed data $X_0$\n"
   ]
  },
  {
   "cell_type": "code",
   "execution_count": null,
   "metadata": {},
   "outputs": [],
   "source": [
    "# True model parameters\n",
    "theta1 = 3\n",
    "theta2 = 4\n",
    "var_const = 1\n",
    "true_params = [theta1, theta2]\n",
    "ndraws = 10\n",
    "\n",
    "# Parameter indices and names used for plotting\n",
    "pidx1 = 0\n",
    "pidx2 = 1\n",
    "pname1 = \"$\\\\theta_1$\"\n",
    "pname2 = \"$\\\\theta_2$\"\n",
    "\n",
    "# Priors\n",
    "prior_theta1 = UniformPrior(-20, 20)\n",
    "prior_theta2 = UniformPrior(-20, 20)\n",
    "prior_list = [prior_theta1, prior_theta2]\n",
    "plot_range = [[-20, 20], [-20, 20]]\n",
    "\n",
    "# True model and generated \"observed\" data\n",
    "model = EllipsoidModel(theta1, theta2, var=var_const, ndraws=ndraws)\n",
    "data = model.generate_data(ndraws)\n",
    "\n",
    "# Summary statistics of the observed data\n",
    "data_mu = np.mean(data)\n",
    "data_var = np.var(data)\n",
    "\n",
    "# Simulation function\n",
    "def f_sim(particle):\n",
    "    m = EllipsoidModel(particle[0], particle[1], var=var_const, ndraws=ndraws)\n",
    "    return m.generate_data(ndraws)\n",
    "\n",
    "# Distance function\n",
    "def f_dist(x):\n",
    "    mu_err = np.abs((np.mean(x) - data_mu) / data_mu)\n",
    "    var_err = np.abs((np.var(x) - data_var) / data_var)\n",
    "    return mu_err + var_err\n",
    "\n",
    "plt.hist(data, density=True)\n",
    "plt.title(\"Observed Data\")\n",
    "plt.xlabel('$x$');\n",
    "plt.ylabel(\"density\");"
   ]
  },
  {
   "attachments": {},
   "cell_type": "markdown",
   "metadata": {},
   "source": [
    "### Plot Analytic Posterior"
   ]
  },
  {
   "cell_type": "code",
   "execution_count": null,
   "metadata": {},
   "outputs": [],
   "source": [
    "logposterior = True\n",
    "pl.plot_posterior(\n",
    "    model, data, prior_list,\n",
    "    gridn=400,\n",
    "    xlims=plot_range[0], ylims=plot_range[1],\n",
    "    pname1=pname1, pname2=pname2,\n",
    "    logposterior=logposterior,\n",
    "    saveas=f\"{imgdir}/analytic_posterior_plot.png\",\n",
    "    markersize=3,\n",
    ")\n",
    "\n",
    "print(\"Observed data D\\n\", data)"
   ]
  },
  {
   "attachments": {},
   "cell_type": "markdown",
   "metadata": {},
   "source": [
    "## Run ABC-SMC"
   ]
  },
  {
   "cell_type": "code",
   "execution_count": null,
   "metadata": {},
   "outputs": [],
   "source": [
    "particles, weights, results_dict = abcsmc(\n",
    "    nparticles=NPARTICLES, \n",
    "    nparams=2, \n",
    "    prior_list=prior_list, \n",
    "    niters=NITERS,\n",
    "    sim_func=f_sim,\n",
    "    dist_func=f_dist, \n",
    "    eps0=EPS0, \n",
    "    eps_percentile=EPS_PERCENTILE, \n",
    "    min_eps=0, \n",
    "    kernel_method=KERNEL_METHOD,\n",
    "    track_all_perturbations = True,\n",
    ")\n"
   ]
  },
  {
   "cell_type": "code",
   "execution_count": null,
   "metadata": {},
   "outputs": [],
   "source": [
    "particle_history = results_dict['particle_history']\n",
    "weight_history = results_dict['weight_history']\n",
    "score_history = results_dict['score_history']\n",
    "acceptance_rates = results_dict['acceptance_rates']\n",
    "epsilon_history = results_dict['epsilon_history']\n",
    "sampling_idx_history = results_dict['sampling_index_history']\n",
    "particle_idx_history = results_dict['particle_index_history']\n",
    "all_particle_history = results_dict['all_particle_history']\n",
    "all_sampling_idx_history = results_dict['all_sampling_index_history']\n",
    "all_particle_acceptance_history = results_dict['all_particle_acceptance_history']"
   ]
  },
  {
   "attachments": {},
   "cell_type": "markdown",
   "metadata": {},
   "source": [
    "## Plot results"
   ]
  },
  {
   "cell_type": "code",
   "execution_count": null,
   "metadata": {},
   "outputs": [],
   "source": [
    "pl.plot_results(\n",
    "    particle_history, weight_history, score_history, acceptance_rates,\n",
    "    epsilon_history, prior_list, \n",
    "    pname1=pname1, pname2=pname2,\n",
    "    true_param=true_params,\n",
    "    save=True, imgdir=imgdir\n",
    ")"
   ]
  },
  {
   "attachments": {},
   "cell_type": "markdown",
   "metadata": {},
   "source": [
    "## Perturbations"
   ]
  },
  {
   "cell_type": "code",
   "execution_count": null,
   "metadata": {},
   "outputs": [],
   "source": [
    "N_PERTRUB_SAMP = 20\n",
    "for iteridx in range(len(particle_history) - 1):\n",
    "    pl.plot_perturbation_sample(\n",
    "        iteridx, particle_history, sampling_idx_history, particle_idx_history, \n",
    "        nsamp=N_PERTRUB_SAMP, \n",
    "        pname1=pname1, pname2=pname2,\n",
    "        imgdir=imgdir, \n",
    "        saveas=f\"perturbation_{iteridx}_{iteridx+1}.png\"\n",
    "    )"
   ]
  },
  {
   "cell_type": "code",
   "execution_count": null,
   "metadata": {},
   "outputs": [],
   "source": [
    "N_PERTRUB_SAMP = 20\n",
    "\n",
    "for iteridx in range(len(particle_history) - 1):\n",
    "    pl.plot_all_perturbation_sample(\n",
    "        iteridx, particle_history, sampling_idx_history, particle_idx_history, \n",
    "        all_particle_history, all_sampling_idx_history, \n",
    "        acceptance_history=all_particle_acceptance_history,\n",
    "        nsamp=N_PERTRUB_SAMP, \n",
    "        pname1=pname1, pname2=pname2,\n",
    "        imgdir=imgdir, \n",
    "        saveas=f\"perturbation_{iteridx}_{iteridx+1}.png\"\n",
    "    )"
   ]
  },
  {
   "attachments": {},
   "cell_type": "markdown",
   "metadata": {},
   "source": [
    "### Compare analytic and empirical posteriors"
   ]
  },
  {
   "cell_type": "code",
   "execution_count": null,
   "metadata": {},
   "outputs": [],
   "source": [
    "emp_dist = pl.plot_empirical_posterior(\n",
    "    particles, weights,\n",
    "    nsamps=10000,\n",
    "    pname1=pname1, pname2=pname2,\n",
    "    saveas=f\"{imgdir}/empirical_posterior.png\"\n",
    ")\n",
    "\n",
    "pl.plot_posterior(\n",
    "    model, data, prior_list,\n",
    "    gridn=400,\n",
    "    xlims=plot_range[0], ylims=plot_range[1],\n",
    "    # xlims=[0, 16], ylims=[-2, 10],\n",
    "    pname1=pname1, pname2=pname2,\n",
    "    logposterior=True,\n",
    "    empirical_dist=emp_dist,\n",
    "    # empirical_dist=emp_dist[0:100],\n",
    "    saveas=f\"{imgdir}/posterior_comparison.png\",\n",
    "    legend_loc='upper left'\n",
    ")"
   ]
  },
  {
   "cell_type": "code",
   "execution_count": null,
   "metadata": {},
   "outputs": [],
   "source": []
  }
 ],
 "metadata": {
  "kernelspec": {
   "display_name": "base",
   "language": "python",
   "name": "python3"
  },
  "language_info": {
   "codemirror_mode": {
    "name": "ipython",
    "version": 3
   },
   "file_extension": ".py",
   "mimetype": "text/x-python",
   "name": "python",
   "nbconvert_exporter": "python",
   "pygments_lexer": "ipython3",
   "version": "3.11.4"
  },
  "orig_nbformat": 4
 },
 "nbformat": 4,
 "nbformat_minor": 2
}
