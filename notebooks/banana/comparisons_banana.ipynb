{
 "cells": [
  {
   "attachments": {},
   "cell_type": "markdown",
   "metadata": {},
   "source": [
    "# Comparison of Kernels applied to a Banana Model\n"
   ]
  },
  {
   "cell_type": "code",
   "execution_count": null,
   "metadata": {},
   "outputs": [],
   "source": [
    "import os\n",
    "import numpy as np\n",
    "\n",
    "from abcsmc.abcsmc import abcsmc\n",
    "from abcsmc.models import BananaModel\n",
    "from abcsmc.priors import UniformPrior\n",
    "import abcsmc.pl as pl\n"
   ]
  },
  {
   "cell_type": "code",
   "execution_count": null,
   "metadata": {},
   "outputs": [],
   "source": [
    "# ABC-SMC parameters\n",
    "NTRIALS = 10\n",
    "KERNEL_METHODS = ['locm', 'mvn', 'gaussian', 'uniform']\n",
    "NPARTICLES = 800\n",
    "EPS_SCHED = [160, 120, 80, 60, 40, 30, 20, 15, 10, 8, 6, 4, 3, 2, 1]\n",
    "\n",
    "# Image output\n",
    "imgdir = \"../../out/images/nb_comparisons_banana\"\n",
    "os.makedirs(imgdir, exist_ok=True)"
   ]
  },
  {
   "attachments": {},
   "cell_type": "markdown",
   "metadata": {},
   "source": [
    "### Generate observed data $X_0$\n"
   ]
  },
  {
   "cell_type": "code",
   "execution_count": null,
   "metadata": {},
   "outputs": [],
   "source": [
    "# Observed data\n",
    "data = np.array([[0, 0]])\n",
    "\n",
    "ndraws = len(data)\n",
    "\n",
    "# Parameter indices and names used for plotting\n",
    "pidx1 = 0\n",
    "pidx2 = 1\n",
    "pname1 = \"$\\\\theta_1$\"\n",
    "pname2 = \"$\\\\theta_2$\"\n",
    "\n",
    "# Priors\n",
    "prior_theta1 = UniformPrior(-20, 20)\n",
    "prior_theta2 = UniformPrior(-20, 20)\n",
    "prior_list = [prior_theta1, prior_theta2]\n",
    "plot_range = [[-20, 20], [-20, 20]]\n",
    "\n",
    "# Model object\n",
    "cov_const = [[1, 0], [0, 0.5]]\n",
    "model = BananaModel(0, 0, cov=cov_const, ndraws=ndraws)\n",
    "\n",
    "# Simulation function\n",
    "def f_sim(particle):\n",
    "    m = BananaModel(particle[0], particle[1], cov=cov_const, ndraws=ndraws)\n",
    "    return m.generate_data(ndraws)\n",
    "\n",
    "# Distance function\n",
    "def f_dist(x):\n",
    "    d = np.linalg.norm(x - data)\n",
    "    assert np.ndim(d) == 0, \"Bad distance function\"\n",
    "    return d\n"
   ]
  },
  {
   "attachments": {},
   "cell_type": "markdown",
   "metadata": {},
   "source": [
    "### Plot Analytic Posterior"
   ]
  },
  {
   "cell_type": "code",
   "execution_count": null,
   "metadata": {},
   "outputs": [],
   "source": [
    "logposterior = False\n",
    "pl.plot_posterior(\n",
    "    model, data, prior_list,\n",
    "    gridn=400,\n",
    "    xlims=plot_range[0], ylims=plot_range[1],\n",
    "    pname1=pname1, pname2=pname2,\n",
    "    logposterior=logposterior,\n",
    "    saveas=f\"{imgdir}/analytic_posterior_plot.png\",\n",
    "    markersize=3,\n",
    ")\n",
    "\n",
    "print(\"Observed data D\\n\", data)"
   ]
  },
  {
   "attachments": {},
   "cell_type": "markdown",
   "metadata": {},
   "source": [
    "## Run ABC-SMC"
   ]
  },
  {
   "cell_type": "code",
   "execution_count": null,
   "metadata": {},
   "outputs": [],
   "source": [
    "acc_results = {km:np.zeros([NTRIALS, len(EPS_SCHED)]) for km in KERNEL_METHODS}\n",
    "for km in KERNEL_METHODS:\n",
    "    for trialidx in range(NTRIALS):\n",
    "        particles, weights, results_dict = abcsmc(\n",
    "            nparticles=NPARTICLES, \n",
    "            nparams=2, \n",
    "            prior_list=prior_list, \n",
    "            niters=len(EPS_SCHED),\n",
    "            sim_func=f_sim,\n",
    "            dist_func=f_dist, \n",
    "            eps_sched=EPS_SCHED,\n",
    "            min_eps=0, \n",
    "            kernel_method=km,\n",
    "            track_all_perturbations = False,\n",
    "            verbosity=0,\n",
    "            disable_pbars=True,\n",
    "        )\n",
    "        acc_results[km][trialidx,:] = results_dict['acceptance_rates']\n"
   ]
  },
  {
   "cell_type": "code",
   "execution_count": null,
   "metadata": {},
   "outputs": [],
   "source": [
    "pl.plot_kernel_comparison_results(\n",
    "    acc_results, KERNEL_METHODS, EPS_SCHED,\n",
    "    linewidth=3,\n",
    "    title=\"Kernel Comparison (Ellipsoid Model)\",\n",
    "    saveas=f\"{imgdir}/comparison_acc_rates.png\",\n",
    ")"
   ]
  },
  {
   "cell_type": "code",
   "execution_count": null,
   "metadata": {},
   "outputs": [],
   "source": []
  }
 ],
 "metadata": {
  "kernelspec": {
   "display_name": "base",
   "language": "python",
   "name": "python3"
  },
  "language_info": {
   "codemirror_mode": {
    "name": "ipython",
    "version": 3
   },
   "file_extension": ".py",
   "mimetype": "text/x-python",
   "name": "python",
   "nbconvert_exporter": "python",
   "pygments_lexer": "ipython3",
   "version": "3.11.4"
  },
  "orig_nbformat": 4
 },
 "nbformat": 4,
 "nbformat_minor": 2
}
